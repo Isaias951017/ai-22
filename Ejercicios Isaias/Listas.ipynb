{
 "cells": [
  {
   "cell_type": "code",
   "execution_count": 21,
   "metadata": {},
   "outputs": [
    {
     "name": "stdout",
     "output_type": "stream",
     "text": [
      "['Gato', 'Perro', 'Caballo']\n"
     ]
    }
   ],
   "source": [
    "#Ejemplo de listas\n",
    "mi_list=['Gato','Perro','Caballo']\n",
    "print(mi_list)"
   ]
  },
  {
   "cell_type": "code",
   "execution_count": 23,
   "metadata": {},
   "outputs": [
    {
     "name": "stdout",
     "output_type": "stream",
     "text": [
      "['Gato', 'Perro', 'Caballo', 'Raton']\n"
     ]
    }
   ],
   "source": [
    "mi_list.append('Raton')\n",
    "print(mi_list)"
   ]
  },
  {
   "cell_type": "markdown",
   "metadata": {},
   "source": [
    "DICCIONARIO"
   ]
  },
  {
   "cell_type": "code",
   "execution_count": 36,
   "metadata": {},
   "outputs": [
    {
     "name": "stdout",
     "output_type": "stream",
     "text": [
      "21\n"
     ]
    }
   ],
   "source": [
    "mi_dict= {\n",
    "    'nombres':['Juna','Camilo','Sara'],\n",
    "    'Edades':[18,20,21,19]\n",
    "}\n",
    "print(mi_dict['Edades'][2])"
   ]
  }
 ],
 "metadata": {
  "kernelspec": {
   "display_name": "Python 3",
   "language": "python",
   "name": "python3"
  },
  "language_info": {
   "codemirror_mode": {
    "name": "ipython",
    "version": 3
   },
   "file_extension": ".py",
   "mimetype": "text/x-python",
   "name": "python",
   "nbconvert_exporter": "python",
   "pygments_lexer": "ipython3",
   "version": "3.13.1"
  }
 },
 "nbformat": 4,
 "nbformat_minor": 2
}
